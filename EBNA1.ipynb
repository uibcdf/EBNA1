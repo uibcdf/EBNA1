{
 "cells": [
  {
   "cell_type": "markdown",
   "metadata": {},
   "source": [
    "# Epstein-Barr nuclear antigen 1"
   ]
  },
  {
   "cell_type": "markdown",
   "metadata": {},
   "source": [
    "## Structures\n",
    "\n",
    "There are three pdb files with the binding domain crystalized: 1VHI (no DNA) and 1B3T and 5T7X (with DNA). \n",
    "Additionally there is a recent pdb file with an hexameric ring of EBNA1: 5WMF."
   ]
  },
  {
   "cell_type": "code",
   "execution_count": 1,
   "metadata": {},
   "outputs": [],
   "source": [
    "import molmodmt as m3t"
   ]
  },
  {
   "cell_type": "markdown",
   "metadata": {},
   "source": [
    "### 1VHI"
   ]
  },
  {
   "cell_type": "code",
   "execution_count": 2,
   "metadata": {},
   "outputs": [],
   "source": [
    "pdbfix_1VHI = m3t.fetch('pdb:1VHI','pdbfixer')"
   ]
  },
  {
   "cell_type": "code",
   "execution_count": 3,
   "metadata": {},
   "outputs": [
    {
     "name": "stdout",
     "output_type": "stream",
     "text": [
      "Non standard Residues: []\n",
      "Missing Residues: {(0, 0): ['GLY', 'SER', 'HIS'], (1, 0): ['GLY', 'SER', 'HIS', 'MET', 'GLY', 'GLN', 'GLY', 'GLY', 'SER', 'ASN']}\n",
      "Missing Atoms: {}\n"
     ]
    },
    {
     "data": {
      "application/vnd.jupyter.widget-view+json": {
       "model_id": "b64936f14bb64b868149e37a7acc10d0",
       "version_major": 2,
       "version_minor": 0
      },
      "text/plain": [
       "NGLWidget()"
      ]
     },
     "metadata": {},
     "output_type": "display_data"
    }
   ],
   "source": [
    "system_to_fix = pdbfix_1VHI\n",
    "\n",
    "system_to_fix.removeHeterogens(keepWater=False)\n",
    "system_to_fix.findNonstandardResidues()\n",
    "system_to_fix.findMissingResidues()\n",
    "system_to_fix.findMissingAtoms()\n",
    "\n",
    "print('Non standard Residues:',system_to_fix.nonstandardResidues)\n",
    "print('Missing Residues:',system_to_fix.missingResidues)\n",
    "print('Missing Atoms:',system_to_fix.missingAtoms)\n",
    "\n",
    "m3t.view(system_to_fix)"
   ]
  },
  {
   "cell_type": "code",
   "execution_count": 4,
   "metadata": {},
   "outputs": [],
   "source": [
    "#Add residues and atoms\n",
    "#system_to_fix.addMissingAtoms()\n",
    "#system_to_fix.addMissingHydrogens(pH=7.4)\n",
    "#m3t.view(system_to_fix)"
   ]
  },
  {
   "cell_type": "markdown",
   "metadata": {},
   "source": [
    "### 1B3T"
   ]
  },
  {
   "cell_type": "code",
   "execution_count": 5,
   "metadata": {},
   "outputs": [],
   "source": [
    "pdbfix_1B3T = m3t.fetch('pdb:1B3T','pdbfixer')"
   ]
  },
  {
   "cell_type": "code",
   "execution_count": 6,
   "metadata": {},
   "outputs": [
    {
     "name": "stdout",
     "output_type": "stream",
     "text": [
      "Non standard Residues: []\n",
      "Missing Residues: {}\n",
      "Missing Atoms: {}\n"
     ]
    },
    {
     "data": {
      "application/vnd.jupyter.widget-view+json": {
       "model_id": "3d6ee21dbdbf4be1a6081871dbfb18bc",
       "version_major": 2,
       "version_minor": 0
      },
      "text/plain": [
       "NGLWidget()"
      ]
     },
     "metadata": {},
     "output_type": "display_data"
    }
   ],
   "source": [
    "system_to_fix = pdbfix_1B3T\n",
    "\n",
    "system_to_fix.removeHeterogens(keepWater=False)\n",
    "system_to_fix.findNonstandardResidues()\n",
    "system_to_fix.findMissingResidues()\n",
    "system_to_fix.findMissingAtoms()\n",
    "\n",
    "print('Non standard Residues:',system_to_fix.nonstandardResidues)\n",
    "print('Missing Residues:',system_to_fix.missingResidues)\n",
    "print('Missing Atoms:',system_to_fix.missingAtoms)\n",
    "\n",
    "m3t.view(system_to_fix)"
   ]
  },
  {
   "cell_type": "code",
   "execution_count": 7,
   "metadata": {},
   "outputs": [],
   "source": [
    "#Add residues and atoms\n",
    "#system_to_fix.addMissingAtoms()\n",
    "#system_to_fix.addMissingHydrogens(pH=7.4)"
   ]
  },
  {
   "cell_type": "markdown",
   "metadata": {},
   "source": [
    "### 5T7X"
   ]
  },
  {
   "cell_type": "code",
   "execution_count": 8,
   "metadata": {},
   "outputs": [],
   "source": [
    "pdbfix_5T7X = m3t.fetch('pdb:5T7X','pdbfixer')"
   ]
  },
  {
   "cell_type": "code",
   "execution_count": 9,
   "metadata": {},
   "outputs": [
    {
     "name": "stdout",
     "output_type": "stream",
     "text": [
      "Non standard Residues: []\n",
      "Missing Residues: {(2, 0): ['ARG', 'LYS']}\n",
      "Missing Atoms: {<Residue 184 (LYS) of chain 3>: [<Atom 3 (CG) of chain 0 residue 0 (LYS)>, <Atom 4 (CD) of chain 0 residue 0 (LYS)>, <Atom 5 (CE) of chain 0 residue 0 (LYS)>, <Atom 6 (NZ) of chain 0 residue 0 (LYS)>]}\n"
     ]
    },
    {
     "data": {
      "application/vnd.jupyter.widget-view+json": {
       "model_id": "79010e2b7f2e4eb49bfcb5d926a4d35e",
       "version_major": 2,
       "version_minor": 0
      },
      "text/plain": [
       "NGLWidget()"
      ]
     },
     "metadata": {},
     "output_type": "display_data"
    }
   ],
   "source": [
    "system_to_fix = pdbfix_5T7X\n",
    "\n",
    "system_to_fix.removeHeterogens(keepWater=False)\n",
    "system_to_fix.findNonstandardResidues()\n",
    "system_to_fix.findMissingResidues()\n",
    "system_to_fix.findMissingAtoms()\n",
    "\n",
    "print('Non standard Residues:',system_to_fix.nonstandardResidues)\n",
    "print('Missing Residues:',system_to_fix.missingResidues)\n",
    "print('Missing Atoms:',system_to_fix.missingAtoms)\n",
    "\n",
    "m3t.view(system_to_fix)"
   ]
  },
  {
   "cell_type": "code",
   "execution_count": 10,
   "metadata": {},
   "outputs": [],
   "source": [
    "system_to_fix.missingResidues={}\n",
    "system_to_fix.addMissingAtoms()"
   ]
  },
  {
   "cell_type": "code",
   "execution_count": 11,
   "metadata": {},
   "outputs": [],
   "source": [
    "#Add residues and atoms\n",
    "#system_to_fix.addMissingAtoms()\n",
    "#system_to_fix.addMissingHydrogens(pH=7.4)"
   ]
  },
  {
   "cell_type": "markdown",
   "metadata": {},
   "source": [
    "### 5WMF"
   ]
  },
  {
   "cell_type": "code",
   "execution_count": 12,
   "metadata": {},
   "outputs": [],
   "source": [
    "pdbfix_5WMF = m3t.fetch('pdb:5WMF','pdbfixer')"
   ]
  },
  {
   "cell_type": "code",
   "execution_count": 13,
   "metadata": {},
   "outputs": [
    {
     "name": "stdout",
     "output_type": "stream",
     "text": [
      "Non standard Residues: []\n",
      "Missing Residues: {(0, 0): ['GLY', 'SER', 'HIS', 'MET', 'GLY', 'GLN', 'GLY', 'GLY', 'SER'], (0, 137): ['PRO', 'MET', 'VAL', 'GLU', 'GLY', 'ALA', 'ALA', 'ALA'], (1, 0): ['GLY', 'SER', 'HIS', 'MET', 'GLY', 'GLN', 'GLY', 'GLY', 'SER'], (1, 137): ['PRO', 'MET', 'VAL', 'GLU', 'GLY', 'ALA', 'ALA', 'ALA'], (2, 0): ['GLY', 'SER', 'HIS', 'MET', 'GLY', 'GLN', 'GLY', 'GLY', 'SER', 'ASN'], (2, 138): ['VAL', 'GLU', 'GLY', 'ALA', 'ALA', 'ALA'], (3, 0): ['GLY', 'SER', 'HIS', 'MET', 'GLY', 'GLN', 'GLY', 'GLY', 'SER'], (3, 137): ['PRO', 'MET', 'VAL', 'GLU', 'GLY', 'ALA', 'ALA', 'ALA'], (4, 0): ['GLY', 'SER', 'HIS', 'MET', 'GLY', 'GLN', 'GLY', 'GLY', 'SER', 'ASN', 'PRO'], (4, 135): ['PRO', 'MET', 'VAL', 'GLU', 'GLY', 'ALA', 'ALA', 'ALA'], (5, 0): ['GLY', 'SER', 'HIS', 'MET', 'GLY', 'GLN', 'GLY', 'GLY'], (5, 140): ['VAL', 'GLU', 'GLY', 'ALA', 'ALA', 'ALA']}\n",
      "Missing Atoms: {<Residue 269 (PRO) of chain 1>: [<Atom 6 (O) of chain 0 residue 0 (PRO)>], <Residue 405 (PRO) of chain 2>: [<Atom 6 (O) of chain 0 residue 0 (PRO)>], <Residue 544 (PRO) of chain 3>: [<Atom 6 (O) of chain 0 residue 0 (PRO)>], <Residue 679 (PRO) of chain 4>: [<Atom 6 (O) of chain 0 residue 0 (PRO)>], <Residue 817 (PRO) of chain 5>: [<Atom 6 (O) of chain 0 residue 0 (PRO)>]}\n"
     ]
    },
    {
     "data": {
      "application/vnd.jupyter.widget-view+json": {
       "model_id": "4a69762782bc4078af4174555bab2225",
       "version_major": 2,
       "version_minor": 0
      },
      "text/plain": [
       "NGLWidget()"
      ]
     },
     "metadata": {},
     "output_type": "display_data"
    }
   ],
   "source": [
    "system_to_fix = pdbfix_5WMF\n",
    "\n",
    "system_to_fix.removeHeterogens(keepWater=False)\n",
    "system_to_fix.findNonstandardResidues()\n",
    "system_to_fix.findMissingResidues()\n",
    "system_to_fix.findMissingAtoms()\n",
    "\n",
    "print('Non standard Residues:',system_to_fix.nonstandardResidues)\n",
    "print('Missing Residues:',system_to_fix.missingResidues)\n",
    "print('Missing Atoms:',system_to_fix.missingAtoms)\n",
    "\n",
    "m3t.view(system_to_fix)"
   ]
  },
  {
   "cell_type": "code",
   "execution_count": 14,
   "metadata": {},
   "outputs": [],
   "source": [
    "system_to_fix.missingResidues={}\n",
    "system_to_fix.addMissingAtoms()"
   ]
  },
  {
   "cell_type": "code",
   "execution_count": 15,
   "metadata": {},
   "outputs": [],
   "source": [
    "#Add residues and atoms\n",
    "#system_to_fix.addMissingResidues()\n",
    "#system_to_fix.addMissingAtoms()\n",
    "#system_to_fix.addMissingHydrogens(pH=7.4)"
   ]
  },
  {
   "cell_type": "markdown",
   "metadata": {},
   "source": [
    "## Comparison of monomers"
   ]
  },
  {
   "cell_type": "markdown",
   "metadata": {},
   "source": [
    "Hay mutaciones puntuales entre las dos estructuras con DNA"
   ]
  },
  {
   "cell_type": "code",
   "execution_count": 16,
   "metadata": {},
   "outputs": [],
   "source": [
    "chain_0_1VHI = m3t.extract(pdbfix_1VHI,'chainid 0','mdtraj')\n",
    "chain_1_1VHI = m3t.extract(pdbfix_1VHI,'chainid 1','mdtraj')\n",
    "chain_0_5T7X = m3t.extract(pdbfix_5T7X,'chainid 2','mdtraj') # chains 0 and 1 are DNA\n",
    "chain_1_5T7X = m3t.extract(pdbfix_5T7X,'chainid 3','mdtraj') # chains 0 and 1 are DNA"
   ]
  },
  {
   "cell_type": "code",
   "execution_count": 21,
   "metadata": {},
   "outputs": [],
   "source": [
    "chain_1_1VHI_aligned = m3t.structure_alignment(chain_0_1VHI,chain_1_1VHI)\n",
    "#chain_0_5T7X_aligned = m3t.structure_alignment(chain_0_1VHI,chain_0_5T7X)\n",
    "#chain_1_5T7X_aligned = m3t.structure_alignment(chain_0_1VHI,chain_1_5T7X)\n",
    "chain_1_5T7X_aligned = m3t.structure_alignment(chain_0_5T7X,chain_1_5T7X)"
   ]
  },
  {
   "cell_type": "code",
   "execution_count": 18,
   "metadata": {},
   "outputs": [
    {
     "data": {
      "application/vnd.jupyter.widget-view+json": {
       "model_id": "82655cd4e4204d3aa4ca5f423156e79a",
       "version_major": 2,
       "version_minor": 0
      },
      "text/plain": [
       "NGLWidget()"
      ]
     },
     "metadata": {},
     "output_type": "display_data"
    }
   ],
   "source": [
    "m3t.view([chain_0_1VHI,chain_1_1VHI_aligned])"
   ]
  },
  {
   "cell_type": "code",
   "execution_count": 22,
   "metadata": {},
   "outputs": [
    {
     "data": {
      "application/vnd.jupyter.widget-view+json": {
       "model_id": "aa873a6b3a8040639d00ff4d7d05a143",
       "version_major": 2,
       "version_minor": 0
      },
      "text/plain": [
       "NGLWidget()"
      ]
     },
     "metadata": {},
     "output_type": "display_data"
    }
   ],
   "source": [
    "m3t.view([chain_0_5T7X,chain_1_5T7X_aligned])"
   ]
  },
  {
   "cell_type": "code",
   "execution_count": 34,
   "metadata": {},
   "outputs": [
    {
     "data": {
      "text/plain": [
       "'MGQGGSNPKFENIAEGLRALLARSHVERTTDEGTWVAGVFVYGGSKTSLYNLRRGTALAIPQCRLTPLSRLPFGMAPGPGPQPGPLRESIVCYFMVFLQTHIFAEVLKDAIKDLVMTKPAPTCNIRVTVCSFDDGVDLP'"
      ]
     },
     "execution_count": 34,
     "metadata": {},
     "output_type": "execute_result"
    }
   ],
   "source": [
    "m3t.convert(chain_0_1VHI,'aminoacids1:seq')[12:]"
   ]
  },
  {
   "cell_type": "code",
   "execution_count": 38,
   "metadata": {},
   "outputs": [
    {
     "data": {
      "text/plain": [
       "'RGQGGSNPKFENIAEGLRVLLARSHVERTTEEGNWVAGVFVYGGSKTSLYNLRRGIALAVPQCRITPLSRLPFGMAPGPGPQPGPLRESIVCYFMVFLQTHIFAEVLKDAIKDLVMIKPAPTCNIKVTVCSFDDGVDLP'"
      ]
     },
     "execution_count": 38,
     "metadata": {},
     "output_type": "execute_result"
    }
   ],
   "source": [
    "m3t.convert(chain_0_5T7X,'aminoacids1:seq')[20:]"
   ]
  },
  {
   "cell_type": "code",
   "execution_count": 39,
   "metadata": {},
   "outputs": [
    {
     "data": {
      "text/plain": [
       "[('M--------GQGGSNPKFENIAEGLRALLARSHVERTTDEGTWVAGVFVYGGSKTSLYNLRRGTALAIPQCRLTPLSRLPFGMAPGPGPQPGPLRESIVCYFMVFLQTHIFAEVLKDAIKDLVMTKPAPTCNIRVTVCSFDDGVDLP',\n",
       "  'KGGWFGKHRGQGGSNPKFENIAEGLRVLLARSHVERTTEEGNWVAGVFVYGGSKTSLYNLRRGIALAVPQCRITPLSRLPFGMAPGPGPQPGPLRESIVCYFMVFLQTHIFAEVLKDAIKDLVMIKPAPTCNIKVTVCSFDDGVDLP',\n",
       "  625.5000000000002,\n",
       "  0,\n",
       "  147),\n",
       " ('MG--------QGGSNPKFENIAEGLRALLARSHVERTTDEGTWVAGVFVYGGSKTSLYNLRRGTALAIPQCRLTPLSRLPFGMAPGPGPQPGPLRESIVCYFMVFLQTHIFAEVLKDAIKDLVMTKPAPTCNIRVTVCSFDDGVDLP',\n",
       "  'KGGWFGKHRGQGGSNPKFENIAEGLRVLLARSHVERTTEEGNWVAGVFVYGGSKTSLYNLRRGIALAVPQCRITPLSRLPFGMAPGPGPQPGPLRESIVCYFMVFLQTHIFAEVLKDAIKDLVMIKPAPTCNIKVTVCSFDDGVDLP',\n",
       "  625.5000000000002,\n",
       "  0,\n",
       "  147)]"
      ]
     },
     "execution_count": 39,
     "metadata": {},
     "output_type": "execute_result"
    }
   ],
   "source": [
    "m3t.sequence_alignment(chain_0_1VHI,chain_0_5T7X)"
   ]
  },
  {
   "cell_type": "code",
   "execution_count": 43,
   "metadata": {},
   "outputs": [
    {
     "data": {
      "text/plain": [
       "93.5251798561151"
      ]
     },
     "execution_count": 43,
     "metadata": {},
     "output_type": "execute_result"
    }
   ],
   "source": [
    "m3t.sequence_identity(chain_0_1VHI,chain_0_5T7X)"
   ]
  },
  {
   "cell_type": "markdown",
   "metadata": {},
   "source": [
    "I have to include selections in structure_alignment(). And I have also to check whats the approach to do it consideing both chains."
   ]
  },
  {
   "cell_type": "code",
   "execution_count": 28,
   "metadata": {},
   "outputs": [
    {
     "name": "stdout",
     "output_type": "stream",
     "text": [
      "From... to...\n",
      "openmm :  ['nglview']\n",
      "pytraj :  []\n",
      "native :  []\n",
      "mdtraj :  []\n",
      "parmed :  ['modeller', 'mol2', 'pdb']\n",
      "mdanalysis :  ['nglview']\n",
      "pdbfixer :  ['mdtraj']\n",
      "modeller :  ['mdtraj']\n",
      "mdtraj.Trajectory :  ['aminoacids1:seq', 'aminoacids3:seq', 'biopython.Seq', 'biopython.SeqRecord', 'mdtraj.Topology', 'native.Native', 'nglview', 'openmm.Positions', 'openmm.Topology', 'parmed', 'parmed.Structure', 'pdb', 'pdbfixer', 'pdbfixer.PDBFixer', 'yank.Topography']\n",
      "molsys.Native :  ['mdtraj', 'mdtraj.Topology', 'mdtraj.Trajectory', 'nglview', 'openmm.Topology', 'pdb']\n",
      "yank.Topography :  ['openmm.Topology']\n",
      "openmm.Positions :  []\n",
      "modeller.Modeller :  ['mdtraj', 'mdtraj.Topology', 'nglview', 'parmed.Structure', 'pdb']\n",
      "pdbfixer.PDBFixer :  ['aminoacids1:seq', 'aminoacids3:seq', 'biopython.Seq', 'biopython.SeqRecord', 'mdtraj', 'mdtraj.Topology', 'mdtraj.Trajectory', 'modeller', 'native.Native', 'nglview', 'openmm.Positions', 'openmm.Topology', 'parmed.Structure', 'pdb', 'yank.Topography']\n",
      "pytraj.Trajectory :  ['nglview']\n",
      "parmed.Structure :  ['mdtraj', 'mol2', 'nglview', 'pdb']\n",
      "mdanalysis.Universe :  ['mdtraj', 'nglview', 'pdb']\n",
      "mdtraj.Topology :  ['openmm.Topology', 'parmed.Structure', 'yank.Topography']\n",
      "openmm.Topology :  ['mdtraj', 'mdtraj.Topology', 'native', 'parmed.Structure', 'yank.Topography']\n",
      "moldyn.Native :  ['mdtraj.Trajectory', 'nglview']\n",
      "biopython.Seq :  ['biopython.SeqRecord', 'fasta']\n",
      "biopython.SeqRecord :  ['fasta']\n",
      "smi :  []\n",
      "xtc :  ['mdtraj.Trajectory', 'native.Native']\n",
      "h5 :  ['mdtraj', 'mdtraj.Trajectory', 'native.Native']\n",
      "dcd :  ['mdanalysis', 'mdtraj']\n",
      "mol2 :  ['mdtraj', 'modeller', 'nglview', 'parmed', 'pdb']\n",
      "sdf :  []\n",
      "pdb :  ['mdanalysis', 'mdtraj', 'mdtraj.Topology', 'mdtraj.Trajectory', 'modeller', 'mol2', 'native', 'native.Native', 'nglview', 'openmm.Positions', 'openmm.Topology', 'parmed', 'parmed.Structure', 'pdbfixer', 'pdbfixer.PDBFixer', 'yank.Topography']\n",
      "fasta :  ['biopython.SeqRecord']\n",
      "ddb :  []\n",
      "pdb:id :  ['mdanalysis', 'mdtraj', 'mdtraj.Topology', 'native.Native', 'nglview', 'parmed', 'parmed.Structure', 'pdb', 'pdbfixer', 'pdbfixer.PDBFixer', 'pytraj', 'pytraj.Trajectory', 'yank.Topography']\n",
      "aminoacids1:seq :  ['aminoacids3:seq', 'biopython.Seq', 'biopython.SeqRecord', 'fasta']\n",
      "aminoacids3:seq :  ['aminoacids1:seq', 'biopython.Seq', 'biopython.SeqRecord', 'fasta']\n",
      "smile:seq :  []\n",
      "nglview :  []\n",
      "\n",
      "To... from...\n",
      "nglview :  ['mdanalysis', 'mdanalysis.Universe', 'mdtraj.Trajectory', 'modeller.Modeller', 'mol2', 'moldyn.Native', 'molsys.Native', 'openmm', 'parmed.Structure', 'pdb', 'pdb:id', 'pdbfixer.PDBFixer', 'pytraj.Trajectory']\n",
      "modeller :  ['mol2', 'parmed', 'pdb', 'pdbfixer.PDBFixer']\n",
      "mol2 :  ['parmed', 'parmed.Structure', 'pdb']\n",
      "pdb :  ['mdanalysis.Universe', 'mdtraj.Trajectory', 'modeller.Modeller', 'mol2', 'molsys.Native', 'parmed', 'parmed.Structure', 'pdb:id', 'pdbfixer.PDBFixer']\n",
      "mdtraj :  ['dcd', 'h5', 'mdanalysis.Universe', 'modeller', 'modeller.Modeller', 'mol2', 'molsys.Native', 'openmm.Topology', 'parmed.Structure', 'pdb', 'pdb:id', 'pdbfixer', 'pdbfixer.PDBFixer']\n",
      "aminoacids3:seq :  ['aminoacids1:seq', 'mdtraj.Trajectory', 'pdbfixer.PDBFixer']\n",
      "aminoacids1:seq :  ['aminoacids3:seq', 'mdtraj.Trajectory', 'pdbfixer.PDBFixer']\n",
      "biopython.Seq :  ['aminoacids1:seq', 'aminoacids3:seq', 'mdtraj.Trajectory', 'pdbfixer.PDBFixer']\n",
      "biopython.SeqRecord :  ['aminoacids1:seq', 'aminoacids3:seq', 'biopython.Seq', 'fasta', 'mdtraj.Trajectory', 'pdbfixer.PDBFixer']\n",
      "native.Native :  ['h5', 'mdtraj.Trajectory', 'pdb', 'pdb:id', 'pdbfixer.PDBFixer', 'xtc']\n",
      "mdtraj.Topology :  ['mdtraj.Trajectory', 'modeller.Modeller', 'molsys.Native', 'openmm.Topology', 'pdb', 'pdb:id', 'pdbfixer.PDBFixer']\n",
      "openmm.Topology :  ['mdtraj.Topology', 'mdtraj.Trajectory', 'molsys.Native', 'pdb', 'pdbfixer.PDBFixer', 'yank.Topography']\n",
      "openmm.Positions :  ['mdtraj.Trajectory', 'pdb', 'pdbfixer.PDBFixer']\n",
      "yank.Topography :  ['mdtraj.Topology', 'mdtraj.Trajectory', 'openmm.Topology', 'pdb', 'pdb:id', 'pdbfixer.PDBFixer']\n",
      "parmed.Structure :  ['mdtraj.Topology', 'mdtraj.Trajectory', 'modeller.Modeller', 'openmm.Topology', 'pdb', 'pdb:id', 'pdbfixer.PDBFixer']\n",
      "pdbfixer.PDBFixer :  ['mdtraj.Trajectory', 'pdb', 'pdb:id']\n",
      "pdbfixer :  ['mdtraj.Trajectory', 'pdb', 'pdb:id']\n",
      "parmed :  ['mdtraj.Trajectory', 'mol2', 'pdb', 'pdb:id']\n",
      "mdtraj.Trajectory :  ['h5', 'moldyn.Native', 'molsys.Native', 'pdb', 'pdbfixer.PDBFixer', 'xtc']\n",
      "native :  ['openmm.Topology', 'pdb']\n",
      "fasta :  ['aminoacids1:seq', 'aminoacids3:seq', 'biopython.Seq', 'biopython.SeqRecord']\n",
      "mdanalysis :  ['dcd', 'pdb', 'pdb:id']\n",
      "pytraj :  ['pdb:id']\n",
      "pytraj.Trajectory :  ['pdb:id']\n"
     ]
    }
   ],
   "source": [
    "m3t.info_convert()"
   ]
  },
  {
   "cell_type": "code",
   "execution_count": null,
   "metadata": {},
   "outputs": [],
   "source": []
  }
 ],
 "metadata": {
  "kernelspec": {
   "display_name": "Python 3",
   "language": "python",
   "name": "python3"
  },
  "language_info": {
   "codemirror_mode": {
    "name": "ipython",
    "version": 3
   },
   "file_extension": ".py",
   "mimetype": "text/x-python",
   "name": "python",
   "nbconvert_exporter": "python",
   "pygments_lexer": "ipython3",
   "version": "3.7.1"
  }
 },
 "nbformat": 4,
 "nbformat_minor": 2
}
